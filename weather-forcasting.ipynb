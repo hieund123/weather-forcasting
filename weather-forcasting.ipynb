{
 "cells": [
  {
   "cell_type": "code",
   "execution_count": 1,
   "id": "c33b72d6-5936-4ef0-aec3-99035e03be62",
   "metadata": {},
   "outputs": [],
   "source": [
    "%matplotlib inline\n",
    "import requests\n",
    "import json\n",
    "import time\n",
    "import datetime as dt\n",
    "import numpy as np\n",
    "import pandas as pd\n",
    "import matplotlib.pyplot as plt\n",
    "import seaborn as sns\n",
    "\n",
    "from sklearn.model_selection import train_test_split\n",
    "from sklearn.preprocessing import OneHotEncoder, StandardScaler\n",
    "from sklearn.impute import SimpleImputer\n",
    "from sklearn.base import BaseEstimator, TransformerMixin\n",
    "from sklearn.pipeline import Pipeline, make_pipeline\n",
    "from sklearn.compose import ColumnTransformer, make_column_transformer\n",
    "from sklearn.preprocessing import FunctionTransformer\n",
    "from sklearn.neural_network import MLPClassifier\n",
    "from sklearn.neural_network import MLPRegressor\n",
    "from sklearn import set_config\n",
    "set_config(display='diagram') # Để trực quan hóa pipeline"
   ]
  },
  {
   "cell_type": "code",
   "execution_count": 2,
   "id": "6ad11b14-f184-487e-bb2a-ef0ef279df20",
   "metadata": {},
   "outputs": [],
   "source": [
    "# Hàm thu thập dữ liệu từ một khoảng thời gian cụ thể\n",
    "def collect_data(api_url):\n",
    "    weather_data = []\n",
    "    success = False\n",
    "    while not success:\n",
    "        print(f\"GET: {api_url}\")\n",
    "        r = requests.get(api_url)\n",
    "        if r.ok:\n",
    "            # lấy kết quả json\n",
    "            pydata = json.loads(r.text)\n",
    "            weather_data.extend(pydata[\"days\"])  # Lưu dữ liệu từ 'days'\n",
    "            print(\"Successful! Remaining cost:\", pydata.get('remainingCost', 'Unknown'))\n",
    "            print()\n",
    "            success = True\n",
    "        else:\n",
    "            print(\"Fail! Try again. Status code:\", r.status_code)\n",
    "            time.sleep(5)\n",
    "        \n",
    "    return weather_data\n"
   ]
  },
  {
   "cell_type": "code",
   "execution_count": 3,
   "id": "fc8d7139-15c9-4ea8-b118-62976a090891",
   "metadata": {},
   "outputs": [],
   "source": [
    "# Hàm tạo URL API từ các tham số đầu vào\n",
    "def create_api_url(location, start_date, end_date, api_key, unit_group='metric', include='days'):\n",
    "    return f'https://weather.visualcrossing.com/VisualCrossingWebServices/rest/services/timeline/{location}/{start_date}/{end_date}?unitGroup={unit_group}&include={include}&key={api_key}&contentType=json'\n",
    "\n",
    "# Hàm thu thập dữ liệu trong khoảng thời gian từ nhiều năm\n",
    "def collect_all_data(start_date, end_date, location, api_key):\n",
    "    # Tạo URL API\n",
    "    api_url = create_api_url(location, start_date, end_date, api_key)\n",
    "    # Thu thập dữ liệu thời tiết\n",
    "    weather_data = collect_data(api_url)\n",
    "    \n",
    "    return weather_data"
   ]
  },
  {
   "cell_type": "code",
   "execution_count": 4,
   "id": "3b8c07c8-c0c6-4722-b9e0-5a0587b7805d",
   "metadata": {},
   "outputs": [],
   "source": [
    "# API key (có thể thay đổi)\n",
    "api_key1 = 'TE7HPVTQ4Q4B7LWSLDSU38BRF'\n",
    "api_key2 = \"VNTCFNZ5VLGZC3FW4F85U8425\"\n",
    "api_key3 = \"VWAK37JBEPXKWXTP7U8MQG9FR\"\n",
    "\n",
    "# Thông số đầu vào (có thể thay đổi)\n",
    "location = 'hanoi'\n",
    "start_date = '2022-09-01'\n",
    "end_date = '2024-09-01'"
   ]
  },
  {
   "cell_type": "code",
   "execution_count": 5,
   "id": "a965a4f2-8fb4-4bd1-a089-0ba872d51deb",
   "metadata": {
    "scrolled": true
   },
   "outputs": [],
   "source": [
    "# # Thu thập dữ liệu\n",
    "# all_weather_data = collect_all_data(start_date, end_date, location, api_key3)\n",
    "\n",
    "# # In số lượng dữ liệu thu thập được\n",
    "# print('Number of data:', len(all_weather_data))\n",
    "\n",
    "# # Lưu dữ liệu vào DataFrame và xuất ra CSV\n",
    "# data_df = pd.DataFrame(all_weather_data)\n",
    "# data_df.rename(lambda name: name[0].upper() + name[1:], axis='columns', inplace=True)\n",
    "# data_df.to_csv('historical_weather_data.csv', index=False)\n",
    "\n",
    "# # Hiển thị 5 dòng đầu tiên của dữ liệu\n",
    "# data_df.head()"
   ]
  },
  {
   "cell_type": "code",
   "execution_count": 6,
   "id": "2273cf65-c2b1-4c9e-883b-f7e0f09a52e9",
   "metadata": {},
   "outputs": [
    {
     "name": "stdout",
     "output_type": "stream",
     "text": [
      "Number of data loaded from CSV: 732\n"
     ]
    }
   ],
   "source": [
    "# Đọc dữ liệu từ file CSV\n",
    "csv_file_path = 'historical_weather_data.csv'  # Đường dẫn đến file CSV\n",
    "all_weather_data = pd.read_csv(csv_file_path)\n",
    "\n",
    "# In số lượng dữ liệu đã tải về\n",
    "print('Number of data loaded from CSV:', len(all_weather_data))\n"
   ]
  },
  {
   "cell_type": "code",
   "execution_count": 7,
   "id": "63751d1b-b727-48da-88a1-de8fefd31b5e",
   "metadata": {},
   "outputs": [
    {
     "name": "stdout",
     "output_type": "stream",
     "text": [
      "Datetime           object\n",
      "DatetimeEpoch       int64\n",
      "Tempmax           float64\n",
      "Tempmin           float64\n",
      "Temp              float64\n",
      "Feelslikemax      float64\n",
      "Feelslikemin      float64\n",
      "Feelslike         float64\n",
      "Dew               float64\n",
      "Humidity          float64\n",
      "Precip            float64\n",
      "Precipprob        float64\n",
      "Precipcover       float64\n",
      "Preciptype         object\n",
      "Snow              float64\n",
      "Snowdepth         float64\n",
      "Windgust          float64\n",
      "Windspeed         float64\n",
      "Winddir           float64\n",
      "Pressure          float64\n",
      "Cloudcover        float64\n",
      "Visibility        float64\n",
      "Solarradiation    float64\n",
      "Solarenergy       float64\n",
      "Uvindex           float64\n",
      "Severerisk        float64\n",
      "Sunrise            object\n",
      "SunriseEpoch        int64\n",
      "Sunset             object\n",
      "SunsetEpoch         int64\n",
      "Moonphase         float64\n",
      "Conditions         object\n",
      "Description        object\n",
      "Icon               object\n",
      "Stations           object\n",
      "Source             object\n",
      "dtype: object\n"
     ]
    }
   ],
   "source": []
  },
  {
   "cell_type": "code",
   "execution_count": 8,
   "id": "4b6bc79f-b293-4434-842b-3f308f151fcc",
   "metadata": {},
   "outputs": [
    {
     "name": "stdout",
     "output_type": "stream",
     "text": [
      "       Column Name  Non-null Count  Missing Percentage\n",
      "0         Datetime             732             0.00000\n",
      "1    DatetimeEpoch             732             0.00000\n",
      "2          Tempmax             732             0.00000\n",
      "3          Tempmin             732             0.00000\n",
      "4             Temp             732             0.00000\n",
      "5     Feelslikemax             732             0.00000\n",
      "6     Feelslikemin             732             0.00000\n",
      "7        Feelslike             732             0.00000\n",
      "8              Dew             732             0.00000\n",
      "9         Humidity             732             0.00000\n",
      "10          Precip             732             0.00000\n",
      "11      Precipprob             732             0.00000\n",
      "12     Precipcover             732             0.00000\n",
      "13      Preciptype             544            25.68306\n",
      "14            Snow             732             0.00000\n",
      "15       Snowdepth             732             0.00000\n",
      "16        Windgust             732             0.00000\n",
      "17       Windspeed             732             0.00000\n",
      "18         Winddir             732             0.00000\n",
      "19        Pressure             732             0.00000\n",
      "20      Cloudcover             732             0.00000\n",
      "21      Visibility             732             0.00000\n",
      "22  Solarradiation             732             0.00000\n",
      "23     Solarenergy             732             0.00000\n",
      "24         Uvindex             732             0.00000\n",
      "25      Severerisk             732             0.00000\n",
      "26         Sunrise             732             0.00000\n",
      "27    SunriseEpoch             732             0.00000\n",
      "28          Sunset             732             0.00000\n",
      "29     SunsetEpoch             732             0.00000\n",
      "30       Moonphase             732             0.00000\n",
      "31      Conditions             732             0.00000\n",
      "32     Description             732             0.00000\n",
      "33            Icon             732             0.00000\n",
      "34        Stations             732             0.00000\n",
      "35          Source             732             0.00000\n"
     ]
    },
    {
     "ename": "NameError",
     "evalue": "name 'missing_percentage' is not defined",
     "output_type": "error",
     "traceback": [
      "\u001b[1;31m---------------------------------------------------------------------------\u001b[0m",
      "\u001b[1;31mNameError\u001b[0m                                 Traceback (most recent call last)",
      "Cell \u001b[1;32mIn[8], line 12\u001b[0m\n\u001b[0;32m      9\u001b[0m \u001b[38;5;28mprint\u001b[39m(summary_df)\n\u001b[0;32m     11\u001b[0m \u001b[38;5;66;03m# Lọc ra các cột có tỷ lệ dữ liệu thiếu lớn hơn 20%\u001b[39;00m\n\u001b[1;32m---> 12\u001b[0m missing_columns \u001b[38;5;241m=\u001b[39m \u001b[43mmissing_percentage\u001b[49m[missing_percentage \u001b[38;5;241m>\u001b[39m \u001b[38;5;241m20\u001b[39m]\n\u001b[0;32m     13\u001b[0m \u001b[38;5;28mprint\u001b[39m(\u001b[38;5;124m\"\u001b[39m\u001b[38;5;130;01m\\n\u001b[39;00m\u001b[38;5;124mColumns with more than 20\u001b[39m\u001b[38;5;124m%\u001b[39m\u001b[38;5;124m missing data:\u001b[39m\u001b[38;5;124m\"\u001b[39m)\n\u001b[0;32m     14\u001b[0m \u001b[38;5;28mprint\u001b[39m(missing_columns)\n",
      "\u001b[1;31mNameError\u001b[0m: name 'missing_percentage' is not defined"
     ]
    }
   ],
   "source": [
    "# Kiểm tra số lượng giá trị không bị thiếu trong mỗi cột\n",
    "non_null_counts = all_weather_data.count()\n",
    "\n",
    "# Tính tỷ lệ phần trăm giá trị thiếu trong mỗi cột\n",
    "missing_percentage = all_weather_data.isnull().mean() * 100\n",
    "\n",
    "# Tạo DataFrame từ non-null counts và missing percentage\n",
    "summary_df = pd.DataFrame({\n",
    "    'Column Name': all_weather_data.columns,\n",
    "    'Non-null Count': all_weather_data.count().values,\n",
    "    'Missing Percentage': all_weather_data.isnull().mean().values * 100\n",
    "})\n",
    "\n",
    "# In bảng\n",
    "print(summary_df)\n",
    "\n",
    "# Lọc ra các cột có tỷ lệ dữ liệu thiếu lớn hơn 20%\n",
    "missing_columns = missing_percentage[missing_percentage > 20]\n",
    "print(\"\\nColumns with more than 20% missing data:\")\n",
    "print(missing_columns)\n",
    "\n",
    "# Tìm các cột có ít hơn 50 giá trị không bị thiếu\n",
    "low_data_columns = non_null_counts[non_null_counts < 50]\n",
    "print(\"\\nColumns with less than 50 non-null values:\")\n",
    "print(low_data_columns)"
   ]
  },
  {
   "cell_type": "code",
   "execution_count": null,
   "id": "271e5662-c02d-49ce-82c0-a65b4e6b50d0",
   "metadata": {},
   "outputs": [],
   "source": [
    "# In ra thông tin dữ liệu số cột trước khi loại bỏ\n",
    "print(\"Columns before dropping 'Preciptype':\")\n",
    "print(all_weather_data.columns)\n",
    "\n",
    "# In số lượng cột trước khi loại bỏ\n",
    "print(\"Number of columns before dropping 'Preciptype':\", len(all_weather_data.columns))\n",
    "\n",
    "# Loại bỏ cột 'Preciptype' khỏi DataFrame\n",
    "all_weather_data = all_weather_data.drop(columns=['Preciptype'])\n",
    "\n",
    "# In ra thông tin dữ liệu sau khi loại bỏ cột\n",
    "print(\"Columns after dropping 'Preciptype':\")\n",
    "print(all_weather_data.columns)\n",
    "\n",
    "# In số lượng cột sau khi loại bỏ\n",
    "print(\"Number of columns after dropping 'Preciptype':\", len(all_weather_data.columns))"
   ]
  },
  {
   "cell_type": "code",
   "execution_count": null,
   "id": "e68732b1-ccd7-45c3-a4ee-82544d75d729",
   "metadata": {},
   "outputs": [],
   "source": [
    "# Đường dẫn đến file CSV mới\n",
    "new_csv_file_path = 'cleaned_historical_weather_data.csv'  \n",
    "\n",
    "# Lưu DataFrame vào file CSV\n",
    "all_weather_data.to_csv(new_csv_file_path, index=False)\n",
    "\n",
    "# Xác nhận rằng dữ liệu đã được lưu\n",
    "print(f\"Data has been saved to {new_csv_file_path}.\")\n"
   ]
  }
 ],
 "metadata": {
  "kernelspec": {
   "display_name": "Python 3 (ipykernel)",
   "language": "python",
   "name": "python3"
  },
  "language_info": {
   "codemirror_mode": {
    "name": "ipython",
    "version": 3
   },
   "file_extension": ".py",
   "mimetype": "text/x-python",
   "name": "python",
   "nbconvert_exporter": "python",
   "pygments_lexer": "ipython3",
   "version": "3.11.5"
  }
 },
 "nbformat": 4,
 "nbformat_minor": 5
}
