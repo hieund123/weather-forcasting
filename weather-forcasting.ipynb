{
 "cells": [
  {
   "cell_type": "code",
   "execution_count": 1,
   "id": "c33b72d6-5936-4ef0-aec3-99035e03be62",
   "metadata": {},
   "outputs": [],
   "source": [
    "%matplotlib inline\n",
    "import requests\n",
    "import json\n",
    "import time\n",
    "import datetime as dt\n",
    "import numpy as np\n",
    "import pandas as pd\n",
    "import matplotlib.pyplot as plt\n",
    "import seaborn as sns\n",
    "\n",
    "from sklearn.model_selection import train_test_split\n",
    "from sklearn.preprocessing import OneHotEncoder, StandardScaler\n",
    "from sklearn.impute import SimpleImputer\n",
    "from sklearn.base import BaseEstimator, TransformerMixin\n",
    "from sklearn.pipeline import Pipeline, make_pipeline\n",
    "from sklearn.compose import ColumnTransformer, make_column_transformer\n",
    "from sklearn.preprocessing import FunctionTransformer\n",
    "from sklearn.neural_network import MLPClassifier\n",
    "from sklearn.neural_network import MLPRegressor\n",
    "from sklearn import set_config\n",
    "set_config(display='diagram') # Để trực quan hóa pipeline"
   ]
  },
  {
   "cell_type": "code",
   "execution_count": 2,
   "id": "6ad11b14-f184-487e-bb2a-ef0ef279df20",
   "metadata": {},
   "outputs": [],
   "source": [
    "# Hàm thu thập dữ liệu từ một khoảng thời gian cụ thể\n",
    "def collect_data(api_url):\n",
    "    weather_data = []\n",
    "    success = False\n",
    "    while not success:\n",
    "        print(f\"GET: {api_url}\")\n",
    "        r = requests.get(api_url)\n",
    "        if r.ok:\n",
    "            # lấy kết quả json\n",
    "            pydata = json.loads(r.text)\n",
    "            weather_data.extend(pydata[\"days\"])  # Lưu dữ liệu từ 'days'\n",
    "            print(\"Successful! Remaining cost:\", pydata.get('remainingCost', 'Unknown'))\n",
    "            print()\n",
    "            success = True\n",
    "        else:\n",
    "            print(\"Fail! Try again. Status code:\", r.status_code)\n",
    "            time.sleep(5)\n",
    "        \n",
    "    return weather_data\n"
   ]
  },
  {
   "cell_type": "code",
   "execution_count": 3,
   "id": "fc8d7139-15c9-4ea8-b118-62976a090891",
   "metadata": {},
   "outputs": [],
   "source": [
    "# Hàm tạo URL API từ các tham số đầu vào\n",
    "def create_api_url(location, start_date, end_date, api_key, unit_group='metric', include='days'):\n",
    "    return f'https://weather.visualcrossing.com/VisualCrossingWebServices/rest/services/timeline/{location}/{start_date}/{end_date}?unitGroup={unit_group}&include={include}&key={api_key}&contentType=json'\n",
    "\n",
    "# Hàm thu thập dữ liệu trong khoảng thời gian từ nhiều năm\n",
    "def collect_all_data(start_date, end_date, location, api_key):\n",
    "    # Tạo URL API\n",
    "    api_url = create_api_url(location, start_date, end_date, api_key)\n",
    "    # Thu thập dữ liệu thời tiết\n",
    "    weather_data = collect_data(api_url)\n",
    "    \n",
    "    return weather_data"
   ]
  },
  {
   "cell_type": "code",
   "execution_count": 4,
   "id": "3b8c07c8-c0c6-4722-b9e0-5a0587b7805d",
   "metadata": {},
   "outputs": [],
   "source": [
    "# API key (có thể thay đổi)\n",
    "api_key1 = 'TE7HPVTQ4Q4B7LWSLDSU38BRF'\n",
    "api_key2 = \"VNTCFNZ5VLGZC3FW4F85U8425\"\n",
    "api_key3 = \"VWAK37JBEPXKWXTP7U8MQG9FR\"\n",
    "\n",
    "# Thông số đầu vào (có thể thay đổi)\n",
    "location = 'hanoi'\n",
    "start_date = '2022-09-01'\n",
    "end_date = '2024-09-01'"
   ]
  },
  {
   "cell_type": "code",
   "execution_count": 5,
   "id": "a965a4f2-8fb4-4bd1-a089-0ba872d51deb",
   "metadata": {
    "scrolled": true
   },
   "outputs": [],
   "source": [
    "# # Thu thập dữ liệu\n",
    "# all_weather_data = collect_all_data(start_date, end_date, location, api_key3)\n",
    "\n",
    "# # In số lượng dữ liệu thu thập được\n",
    "# print('Number of data:', len(all_weather_data))\n",
    "\n",
    "# # Lưu dữ liệu vào DataFrame và xuất ra CSV\n",
    "# data_df = pd.DataFrame(all_weather_data)\n",
    "# data_df.rename(lambda name: name[0].upper() + name[1:], axis='columns', inplace=True)\n",
    "# data_df.to_csv('historical_weather_data.csv', index=False)\n",
    "\n",
    "# # Hiển thị 5 dòng đầu tiên của dữ liệu\n",
    "# data_df.head()"
   ]
  },
  {
   "cell_type": "code",
   "execution_count": 6,
   "id": "2273cf65-c2b1-4c9e-883b-f7e0f09a52e9",
   "metadata": {},
   "outputs": [
    {
     "name": "stdout",
     "output_type": "stream",
     "text": [
      "Number of data loaded from CSV: 732\n"
     ]
    }
   ],
   "source": [
    "# Đọc dữ liệu từ file CSV\n",
    "csv_file_path = 'historical_weather_data.csv'  # Đường dẫn đến file CSV\n",
    "all_weather_data = pd.read_csv(csv_file_path)\n",
    "\n",
    "# In số lượng dữ liệu đã tải về\n",
    "print('Number of data loaded from CSV:', len(all_weather_data))\n"
   ]
  },
  {
   "cell_type": "code",
   "execution_count": 7,
   "id": "1743210c-5c4b-4427-ab15-fd63611986f1",
   "metadata": {},
   "outputs": [
    {
     "name": "stdout",
     "output_type": "stream",
     "text": [
      "Non-null counts per column:\n",
      "Datetime          732\n",
      "DatetimeEpoch     732\n",
      "Tempmax           732\n",
      "Tempmin           732\n",
      "Temp              732\n",
      "Feelslikemax      732\n",
      "Feelslikemin      732\n",
      "Feelslike         732\n",
      "Dew               732\n",
      "Humidity          732\n",
      "Precip            732\n",
      "Precipprob        732\n",
      "Precipcover       732\n",
      "Preciptype        544\n",
      "Snow              732\n",
      "Snowdepth         732\n",
      "Windgust          732\n",
      "Windspeed         732\n",
      "Winddir           732\n",
      "Pressure          732\n",
      "Cloudcover        732\n",
      "Visibility        732\n",
      "Solarradiation    732\n",
      "Solarenergy       732\n",
      "Uvindex           732\n",
      "Severerisk        732\n",
      "Sunrise           732\n",
      "SunriseEpoch      732\n",
      "Sunset            732\n",
      "SunsetEpoch       732\n",
      "Moonphase         732\n",
      "Conditions        732\n",
      "Description       732\n",
      "Icon              732\n",
      "Stations          732\n",
      "Source            732\n",
      "dtype: int64\n",
      "\n",
      "Missing percentage per column:\n",
      "Datetime           0.00000\n",
      "DatetimeEpoch      0.00000\n",
      "Tempmax            0.00000\n",
      "Tempmin            0.00000\n",
      "Temp               0.00000\n",
      "Feelslikemax       0.00000\n",
      "Feelslikemin       0.00000\n",
      "Feelslike          0.00000\n",
      "Dew                0.00000\n",
      "Humidity           0.00000\n",
      "Precip             0.00000\n",
      "Precipprob         0.00000\n",
      "Precipcover        0.00000\n",
      "Preciptype        25.68306\n",
      "Snow               0.00000\n",
      "Snowdepth          0.00000\n",
      "Windgust           0.00000\n",
      "Windspeed          0.00000\n",
      "Winddir            0.00000\n",
      "Pressure           0.00000\n",
      "Cloudcover         0.00000\n",
      "Visibility         0.00000\n",
      "Solarradiation     0.00000\n",
      "Solarenergy        0.00000\n",
      "Uvindex            0.00000\n",
      "Severerisk         0.00000\n",
      "Sunrise            0.00000\n",
      "SunriseEpoch       0.00000\n",
      "Sunset             0.00000\n",
      "SunsetEpoch        0.00000\n",
      "Moonphase          0.00000\n",
      "Conditions         0.00000\n",
      "Description        0.00000\n",
      "Icon               0.00000\n",
      "Stations           0.00000\n",
      "Source             0.00000\n",
      "dtype: float64\n",
      "\n",
      "Columns with more than 20% missing data:\n",
      "Preciptype    25.68306\n",
      "dtype: float64\n",
      "\n",
      "Columns with less than 50 non-null values:\n",
      "Series([], dtype: int64)\n"
     ]
    }
   ],
   "source": [
    "# Kiểm tra số lượng giá trị không bị thiếu trong mỗi cột\n",
    "non_null_counts = all_weather_data.count()\n",
    "print(\"Non-null counts per column:\")\n",
    "print(non_null_counts)\n",
    "\n",
    "# Tính tỷ lệ phần trăm giá trị thiếu trong mỗi cột\n",
    "missing_percentage = all_weather_data.isnull().mean() * 100\n",
    "print(\"\\nMissing percentage per column:\")\n",
    "print(missing_percentage)\n",
    "\n",
    "# Lọc ra các cột có tỷ lệ dữ liệu thiếu lớn hơn 20%\n",
    "missing_columns = missing_percentage[missing_percentage > 20]\n",
    "print(\"\\nColumns with more than 20% missing data:\")\n",
    "print(missing_columns)\n",
    "\n",
    "# Tìm các cột có ít hơn 50 giá trị không bị thiếu\n",
    "low_data_columns = non_null_counts[non_null_counts < 50]\n",
    "print(\"\\nColumns with less than 50 non-null values:\")\n",
    "print(low_data_columns)\n"
   ]
  },
  {
   "cell_type": "code",
   "execution_count": 8,
   "id": "271e5662-c02d-49ce-82c0-a65b4e6b50d0",
   "metadata": {},
   "outputs": [
    {
     "name": "stdout",
     "output_type": "stream",
     "text": [
      "Columns before dropping 'Preciptype':\n",
      "Index(['Datetime', 'DatetimeEpoch', 'Tempmax', 'Tempmin', 'Temp',\n",
      "       'Feelslikemax', 'Feelslikemin', 'Feelslike', 'Dew', 'Humidity',\n",
      "       'Precip', 'Precipprob', 'Precipcover', 'Preciptype', 'Snow',\n",
      "       'Snowdepth', 'Windgust', 'Windspeed', 'Winddir', 'Pressure',\n",
      "       'Cloudcover', 'Visibility', 'Solarradiation', 'Solarenergy', 'Uvindex',\n",
      "       'Severerisk', 'Sunrise', 'SunriseEpoch', 'Sunset', 'SunsetEpoch',\n",
      "       'Moonphase', 'Conditions', 'Description', 'Icon', 'Stations', 'Source'],\n",
      "      dtype='object')\n",
      "Number of columns before dropping 'Preciptype': 36\n",
      "Columns after dropping 'Preciptype':\n",
      "Index(['Datetime', 'DatetimeEpoch', 'Tempmax', 'Tempmin', 'Temp',\n",
      "       'Feelslikemax', 'Feelslikemin', 'Feelslike', 'Dew', 'Humidity',\n",
      "       'Precip', 'Precipprob', 'Precipcover', 'Snow', 'Snowdepth', 'Windgust',\n",
      "       'Windspeed', 'Winddir', 'Pressure', 'Cloudcover', 'Visibility',\n",
      "       'Solarradiation', 'Solarenergy', 'Uvindex', 'Severerisk', 'Sunrise',\n",
      "       'SunriseEpoch', 'Sunset', 'SunsetEpoch', 'Moonphase', 'Conditions',\n",
      "       'Description', 'Icon', 'Stations', 'Source'],\n",
      "      dtype='object')\n",
      "Number of columns after dropping 'Preciptype': 35\n"
     ]
    }
   ],
   "source": [
    "# In ra thông tin dữ liệu số cột trước khi loại bỏ\n",
    "print(\"Columns before dropping 'Preciptype':\")\n",
    "print(all_weather_data.columns)\n",
    "\n",
    "# In số lượng cột trước khi loại bỏ\n",
    "print(\"Number of columns before dropping 'Preciptype':\", len(all_weather_data.columns))\n",
    "\n",
    "# Loại bỏ cột 'Preciptype' khỏi DataFrame\n",
    "all_weather_data = all_weather_data.drop(columns=['Preciptype'])\n",
    "\n",
    "# In ra thông tin dữ liệu sau khi loại bỏ cột\n",
    "print(\"Columns after dropping 'Preciptype':\")\n",
    "print(all_weather_data.columns)\n",
    "\n",
    "# In số lượng cột sau khi loại bỏ\n",
    "print(\"Number of columns after dropping 'Preciptype':\", len(all_weather_data.columns))"
   ]
  },
  {
   "cell_type": "code",
   "execution_count": 9,
   "id": "e68732b1-ccd7-45c3-a4ee-82544d75d729",
   "metadata": {},
   "outputs": [
    {
     "name": "stdout",
     "output_type": "stream",
     "text": [
      "Data has been saved to cleaned_historical_weather_data.csv.\n"
     ]
    }
   ],
   "source": [
    "# Đường dẫn đến file CSV mới\n",
    "new_csv_file_path = 'cleaned_historical_weather_data.csv'  \n",
    "\n",
    "# Lưu DataFrame vào file CSV\n",
    "all_weather_data.to_csv(new_csv_file_path, index=False)\n",
    "\n",
    "# Xác nhận rằng dữ liệu đã được lưu\n",
    "print(f\"Data has been saved to {new_csv_file_path}.\")\n"
   ]
  }
 ],
 "metadata": {
  "kernelspec": {
   "display_name": "Python 3 (ipykernel)",
   "language": "python",
   "name": "python3"
  },
  "language_info": {
   "codemirror_mode": {
    "name": "ipython",
    "version": 3
   },
   "file_extension": ".py",
   "mimetype": "text/x-python",
   "name": "python",
   "nbconvert_exporter": "python",
   "pygments_lexer": "ipython3",
   "version": "3.11.5"
  }
 },
 "nbformat": 4,
 "nbformat_minor": 5
}
